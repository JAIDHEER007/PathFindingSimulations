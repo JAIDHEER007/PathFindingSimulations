{
  "nbformat": 4,
  "nbformat_minor": 0,
  "metadata": {
    "colab": {
      "provenance": []
    },
    "kernelspec": {
      "name": "python3",
      "display_name": "Python 3"
    },
    "language_info": {
      "name": "python"
    }
  },
  "cells": [
    {
      "cell_type": "code",
      "execution_count": 30,
      "metadata": {
        "colab": {
          "base_uri": "https://localhost:8080/"
        },
        "id": "ureKosLIcKr4",
        "outputId": "224e3dca-3b90-4a21-8b1b-371f4316283a"
      },
      "outputs": [
        {
          "output_type": "stream",
          "name": "stdout",
          "text": [
            "Mounted at /content/drive\n"
          ]
        }
      ],
      "source": [
        "# Attaching google drive\n",
        "from google.colab import drive\n",
        "drive.mount('/content/drive')"
      ]
    },
    {
      "cell_type": "code",
      "source": [
        "# cloning my PathFindingSimulation Repo\n",
        "!git clone https://github.com/JAIDHEER007/PathFindingSimulations.git"
      ],
      "metadata": {
        "colab": {
          "base_uri": "https://localhost:8080/"
        },
        "id": "47TGIvuvca_E",
        "outputId": "9a9c2065-31d0-449e-8d0f-8f472290af02"
      },
      "execution_count": 4,
      "outputs": [
        {
          "output_type": "stream",
          "name": "stdout",
          "text": [
            "Cloning into 'PathFindingSimulations'...\n",
            "remote: Enumerating objects: 151, done.\u001b[K\n",
            "remote: Counting objects: 100% (151/151), done.\u001b[K\n",
            "remote: Compressing objects: 100% (60/60), done.\u001b[K\n",
            "remote: Total 151 (delta 94), reused 141 (delta 87), pack-reused 0\u001b[K\n",
            "Receiving objects: 100% (151/151), 173.68 KiB | 1.31 MiB/s, done.\n",
            "Resolving deltas: 100% (94/94), done.\n"
          ]
        }
      ]
    },
    {
      "cell_type": "code",
      "source": [
        "# Moving to PFS directory\n",
        "%cd 'PathFindingSimulations'\n",
        "!pwd\n",
        "!git init"
      ],
      "metadata": {
        "colab": {
          "base_uri": "https://localhost:8080/"
        },
        "id": "WohVptt4c4J-",
        "outputId": "6a8515ea-667b-441d-87d6-eae427aebe0e"
      },
      "execution_count": 17,
      "outputs": [
        {
          "output_type": "stream",
          "name": "stdout",
          "text": [
            "[Errno 2] No such file or directory: 'PathFindingSimulations'\n",
            "/content/PathFindingSimulations\n",
            "/content/PathFindingSimulations\n",
            "Reinitialized existing Git repository in /content/PathFindingSimulations/.git/\n"
          ]
        }
      ]
    },
    {
      "cell_type": "code",
      "source": [
        "# Moving to Batch Processing Branch\n",
        "!git checkout v2.1\n",
        "!git pull origin"
      ],
      "metadata": {
        "colab": {
          "base_uri": "https://localhost:8080/"
        },
        "id": "1kuQmRPvcg_m",
        "outputId": "53a0fdf4-7baa-4496-dfed-171f6c96ecd6"
      },
      "execution_count": 19,
      "outputs": [
        {
          "output_type": "stream",
          "name": "stdout",
          "text": [
            "Already on 'v2.1'\n",
            "Your branch is up to date with 'origin/v2.1'.\n",
            "Already up to date.\n"
          ]
        }
      ]
    },
    {
      "cell_type": "code",
      "source": [
        "testJson = {\n",
        "  \"csvFile\": \"https://raw.githubusercontent.com/JAIDHEER007/PathFindingSimulations/GOL_gen/grids/gol/Run_20230219_131158143237/CSVs/State_30__30__19.csv\", \n",
        "  \"savePath\": \"/content/drive/MyDrive/Personal Projects/PathFindingSimulations/TestRuns/BatchProcessing\",  # Saves in drive\n",
        "  \"startingLocation\": \"0,0\",\n",
        "  \"endingLocation\": \"25,25\", \n",
        "  \"testData\": [\n",
        "    {\n",
        "      \"name\": \"DFS\", \n",
        "      \"corners\": False, \n",
        "      \"backtracking\": True, \n",
        "      \"videoRequired\": True, \n",
        "      \"videoDetails\":{\n",
        "        \"zoomFactors\": [5, 7], \n",
        "        \"fpsLst\": [100, 120]\n",
        "      }\n",
        "    },\n",
        "    {\n",
        "      \"name\": \"BFS\", \n",
        "      \"corners\": False, \n",
        "      \"backtracking\": False, \n",
        "      \"videoRequired\": False, \n",
        "      \"videoDetails\":{\n",
        "        \"zoomFactors\": [11, 13], \n",
        "        \"fpsLst\": [100, 120]\n",
        "      }\n",
        "    }\n",
        "  ]\n",
        "}\n"
      ],
      "metadata": {
        "id": "0bGSJumXctY2"
      },
      "execution_count": 31,
      "outputs": []
    },
    {
      "cell_type": "code",
      "source": [
        "# Saving the above test json \n",
        "import json\n",
        "with open('test.json', 'w') as fileHandle:\n",
        "  json.dump(testJson, fileHandle, indent = 2)"
      ],
      "metadata": {
        "id": "KhtDd5_Hesys"
      },
      "execution_count": 32,
      "outputs": []
    },
    {
      "cell_type": "code",
      "source": [
        "# Cross check if test.json is created\n",
        "!cat test.json"
      ],
      "metadata": {
        "colab": {
          "base_uri": "https://localhost:8080/"
        },
        "id": "gHRsTHNVfKN0",
        "outputId": "34c79894-869f-481d-dcbe-c342ccfc7969"
      },
      "execution_count": 33,
      "outputs": [
        {
          "output_type": "stream",
          "name": "stdout",
          "text": [
            "{\n",
            "  \"csvFile\": \"https://raw.githubusercontent.com/JAIDHEER007/PathFindingSimulations/GOL_gen/grids/gol/Run_20230219_131158143237/CSVs/State_30__30__19.csv\",\n",
            "  \"savePath\": \"/content/drive/MyDrive/Personal Projects/PathFindingSimulations/TestRuns/BatchProcessing\",\n",
            "  \"startingLocation\": \"0,0\",\n",
            "  \"endingLocation\": \"25,25\",\n",
            "  \"testData\": [\n",
            "    {\n",
            "      \"name\": \"DFS\",\n",
            "      \"corners\": false,\n",
            "      \"backtracking\": true,\n",
            "      \"videoRequired\": true,\n",
            "      \"videoDetails\": {\n",
            "        \"zoomFactors\": [\n",
            "          5,\n",
            "          7\n",
            "        ],\n",
            "        \"fpsLst\": [\n",
            "          100,\n",
            "          120\n",
            "        ]\n",
            "      }\n",
            "    },\n",
            "    {\n",
            "      \"name\": \"BFS\",\n",
            "      \"corners\": false,\n",
            "      \"backtracking\": false,\n",
            "      \"videoRequired\": false,\n",
            "      \"videoDetails\": {\n",
            "        \"zoomFactors\": [\n",
            "          11,\n",
            "          13\n",
            "        ],\n",
            "        \"fpsLst\": [\n",
            "          100,\n",
            "          120\n",
            "        ]\n",
            "      }\n",
            "    }\n",
            "  ]\n",
            "}"
          ]
        }
      ]
    },
    {
      "cell_type": "code",
      "source": [
        "# Main command to start simulation\n",
        "\n",
        "# -p flag is the test.json path\n",
        "# if an url need to provided then use -u flag\n",
        "\n",
        "%cd 'Runners'\n",
        "!python3 jsonRunner.py -p '../test.json'"
      ],
      "metadata": {
        "colab": {
          "base_uri": "https://localhost:8080/"
        },
        "id": "nGHDI9xzfKF0",
        "outputId": "6a94e714-891f-4370-cb76-cb36b5fc3435"
      },
      "execution_count": 35,
      "outputs": [
        {
          "output_type": "stream",
          "name": "stdout",
          "text": [
            "[Errno 2] No such file or directory: 'Runners'\n",
            "/content/PathFindingSimulations/Runners\n",
            "Read the CSV\n",
            "Found the ending location\n",
            "Started video processing\n",
            "Saved a video\n",
            "Saved a video\n",
            "Found the ending location\n"
          ]
        }
      ]
    }
  ]
}