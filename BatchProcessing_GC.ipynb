{
  "cells": [
    {
      "cell_type": "markdown",
      "metadata": {
        "id": "view-in-github",
        "colab_type": "text"
      },
      "source": [
        "<a href=\"https://colab.research.google.com/github/JAIDHEER007/PathFindingSimulations/blob/v2.1.2/BatchProcessing_GC.ipynb\" target=\"_parent\"><img src=\"https://colab.research.google.com/assets/colab-badge.svg\" alt=\"Open In Colab\"/></a>"
      ]
    },
    {
      "cell_type": "markdown",
      "metadata": {
        "id": "ZK6C4Y2jiQlK"
      },
      "source": [
        "## Mounting the drive"
      ]
    },
    {
      "cell_type": "code",
      "execution_count": 1,
      "metadata": {
        "colab": {
          "base_uri": "https://localhost:8080/"
        },
        "id": "ureKosLIcKr4",
        "outputId": "9392adef-8d1f-420d-ddde-4d908ba8f279"
      },
      "outputs": [
        {
          "output_type": "stream",
          "name": "stdout",
          "text": [
            "Mounted at /content/drive\n"
          ]
        }
      ],
      "source": [
        "# Attaching google drive\n",
        "from google.colab import drive\n",
        "drive.mount('/content/drive')"
      ]
    },
    {
      "cell_type": "markdown",
      "metadata": {
        "id": "aDbEU81RiTW1"
      },
      "source": [
        "## Batch Processing"
      ]
    },
    {
      "cell_type": "code",
      "execution_count": 2,
      "metadata": {
        "colab": {
          "base_uri": "https://localhost:8080/"
        },
        "id": "47TGIvuvca_E",
        "outputId": "c54e64c4-1d06-430f-b85b-10c760f72e21"
      },
      "outputs": [
        {
          "output_type": "stream",
          "name": "stdout",
          "text": [
            "Cloning into 'PathFindingSimulations'...\n",
            "remote: Enumerating objects: 229, done.\u001b[K\n",
            "remote: Counting objects: 100% (229/229), done.\u001b[K\n",
            "remote: Compressing objects: 100% (90/90), done.\u001b[K\n",
            "remote: Total 229 (delta 157), reused 203 (delta 134), pack-reused 0\u001b[K\n",
            "Receiving objects: 100% (229/229), 527.46 KiB | 9.25 MiB/s, done.\n",
            "Resolving deltas: 100% (157/157), done.\n"
          ]
        }
      ],
      "source": [
        "# cloning my PathFindingSimulation Repo\n",
        "!git clone https://github.com/JAIDHEER007/PathFindingSimulations.git"
      ]
    },
    {
      "cell_type": "code",
      "execution_count": 3,
      "metadata": {
        "colab": {
          "base_uri": "https://localhost:8080/"
        },
        "id": "WohVptt4c4J-",
        "outputId": "840c9955-1f50-44a0-ad48-e983cc354324"
      },
      "outputs": [
        {
          "output_type": "stream",
          "name": "stdout",
          "text": [
            "/content/PathFindingSimulations\n",
            "/content/PathFindingSimulations\n",
            "Reinitialized existing Git repository in /content/PathFindingSimulations/.git/\n"
          ]
        }
      ],
      "source": [
        "# Moving to PFS directory\n",
        "%cd 'PathFindingSimulations'\n",
        "!pwd\n",
        "!git init"
      ]
    },
    {
      "cell_type": "code",
      "execution_count": 4,
      "metadata": {
        "colab": {
          "base_uri": "https://localhost:8080/"
        },
        "id": "1kuQmRPvcg_m",
        "outputId": "d40a240e-48d2-4561-e1f8-565167738533"
      },
      "outputs": [
        {
          "output_type": "stream",
          "name": "stdout",
          "text": [
            "Branch 'v2.1.2' set up to track remote branch 'v2.1.2' from 'origin'.\n",
            "Switched to a new branch 'v2.1.2'\n",
            "Already up to date.\n"
          ]
        }
      ],
      "source": [
        "# Moving to Batch Processing Branch\n",
        "!git checkout v2.1.2\n",
        "!git pull origin"
      ]
    },
    {
      "cell_type": "code",
      "execution_count": 5,
      "metadata": {
        "id": "0bGSJumXctY2"
      },
      "outputs": [],
      "source": [
        "testJson = {\n",
        "  \"savePath\": \"/content/drive/MyDrive/Personal Projects/PathFindingSimulations/TestRuns/BatchProcessing\",  # Saves in drive\n",
        "  \"batches\": [\n",
        "    {\n",
        "      \"gridCSV\": \"https://raw.githubusercontent.com/JAIDHEER007/PathFindingSimulations/GOL_gen/grids/gol/Run_20230228_114647765548/CSVs/State_200__200__17.csv\", \n",
        "      \"algorithm\": \"DFS\",   \n",
        "      \"startingLocation\": \"7, 11\", \n",
        "      \"endingLocation\": \"197, 187\", \n",
        "      \"corners\": True, \n",
        "      \"backtracking\": True,\n",
        "      \"videoRequired\": True, \n",
        "      \"videoDetails\":{\n",
        "        \"zoomFactors\": [11], \n",
        "        \"fpsLst\": [100]\n",
        "      }\n",
        "    },\n",
        "    {\n",
        "      \"gridCSV\": \"https://raw.githubusercontent.com/JAIDHEER007/PathFindingSimulations/GOL_gen/grids/gol/Run_20230228_114647765548/CSVs/State_200__200__17.csv\", \n",
        "      \"algorithm\": \"BFS\",   \n",
        "      \"startingLocation\": \"7, 11\", \n",
        "      \"endingLocation\": \"197, 187\", \n",
        "      \"corners\": True, \n",
        "      \"backtracking\": True,\n",
        "      \"videoRequired\": True, \n",
        "      \"videoDetails\":{\n",
        "        \"zoomFactors\": [11], \n",
        "        \"fpsLst\": [100]\n",
        "      }\n",
        "    }\n",
        "  ]\n",
        "}"
      ]
    },
    {
      "cell_type": "code",
      "execution_count": 6,
      "metadata": {
        "id": "KhtDd5_Hesys"
      },
      "outputs": [],
      "source": [
        "# Saving the above test json \n",
        "import json\n",
        "with open('test.json', 'w') as fileHandle:\n",
        "  json.dump(testJson, fileHandle, indent = 2)"
      ]
    },
    {
      "cell_type": "code",
      "execution_count": 7,
      "metadata": {
        "colab": {
          "base_uri": "https://localhost:8080/"
        },
        "id": "gHRsTHNVfKN0",
        "outputId": "072a2d9d-eab8-4112-c5a3-7b360c5a641e"
      },
      "outputs": [
        {
          "output_type": "stream",
          "name": "stdout",
          "text": [
            "{\n",
            "  \"savePath\": \"/content/drive/MyDrive/Personal Projects/PathFindingSimulations/TestRuns/BatchProcessing\",\n",
            "  \"batches\": [\n",
            "    {\n",
            "      \"gridCSV\": \"https://raw.githubusercontent.com/JAIDHEER007/PathFindingSimulations/GOL_gen/grids/gol/Run_20230228_114647765548/CSVs/State_200__200__17.csv\",\n",
            "      \"algorithm\": \"DFS\",\n",
            "      \"startingLocation\": \"7, 11\",\n",
            "      \"endingLocation\": \"197, 187\",\n",
            "      \"corners\": true,\n",
            "      \"backtracking\": true,\n",
            "      \"videoRequired\": true,\n",
            "      \"videoDetails\": {\n",
            "        \"zoomFactors\": [\n",
            "          11\n",
            "        ],\n",
            "        \"fpsLst\": [\n",
            "          100\n",
            "        ]\n",
            "      }\n",
            "    },\n",
            "    {\n",
            "      \"gridCSV\": \"https://raw.githubusercontent.com/JAIDHEER007/PathFindingSimulations/GOL_gen/grids/gol/Run_20230228_114647765548/CSVs/State_200__200__17.csv\",\n",
            "      \"algorithm\": \"BFS\",\n",
            "      \"startingLocation\": \"7, 11\",\n",
            "      \"endingLocation\": \"197, 187\",\n",
            "      \"corners\": true,\n",
            "      \"backtracking\": true,\n",
            "      \"videoRequired\": true,\n",
            "      \"videoDetails\": {\n",
            "        \"zoomFactors\": [\n",
            "          11\n",
            "        ],\n",
            "        \"fpsLst\": [\n",
            "          100\n",
            "        ]\n",
            "      }\n",
            "    }\n",
            "  ]\n",
            "}"
          ]
        }
      ],
      "source": [
        "# Cross check if test.json is created\n",
        "!cat test.json"
      ]
    },
    {
      "cell_type": "code",
      "execution_count": 8,
      "metadata": {
        "colab": {
          "base_uri": "https://localhost:8080/"
        },
        "id": "nGHDI9xzfKF0",
        "outputId": "5194390d-b176-4356-e4eb-b35b8f32ea67"
      },
      "outputs": [
        {
          "output_type": "stream",
          "name": "stdout",
          "text": [
            "/content/PathFindingSimulations/Runners\n",
            "CSV grid reading successful\n",
            "Created the running directory\n",
            "Parsed the starting and ending location\n",
            "Created the grid object\n",
            "Starting and Ending Locations validations completed\n",
            "Created the Runner object\n",
            "Found the ending location\n",
            "Saved the state matrix to file\n",
            "Started video processing\n",
            "Saved a video\n",
            "CSV grid reading successful\n",
            "Created the running directory\n",
            "Parsed the starting and ending location\n",
            "Created the grid object\n",
            "Starting and Ending Locations validations completed\n",
            "Created the Runner object\n",
            "Found the ending location\n",
            "Saved the state matrix to file\n",
            "Started video processing\n",
            "Saved a video\n"
          ]
        }
      ],
      "source": [
        "# Main command to start simulation\n",
        "\n",
        "# -p flag is the test.json path\n",
        "# if an url need to provided then use -u flag\n",
        "\n",
        "%cd 'Runners'\n",
        "!python3 jsonRunner.py -p '../test.json'"
      ]
    }
  ],
  "metadata": {
    "colab": {
      "provenance": [],
      "authorship_tag": "ABX9TyOuRW64wRbpN5hOOOfipvE8",
      "include_colab_link": true
    },
    "kernelspec": {
      "display_name": "Python 3",
      "name": "python3"
    },
    "language_info": {
      "name": "python"
    }
  },
  "nbformat": 4,
  "nbformat_minor": 0
}